{
 "cells": [
  {
   "cell_type": "markdown",
   "id": "7a9ae5e6",
   "metadata": {},
   "source": [
    "Q1. In Python 3.X, what are the names and functions of string object types?\n",
    "\n",
    "Ans: The following are the names and functions of string object types in Python 3.X\n",
    "\n",
    "    <stirng>.isdecimal() -> Returns True if all characters in a string are decimal.\n",
    "    <string>.isalnum() -> Returns True if all characters in the string are AlphaNumeric.\n",
    "    <string>.istitle() -> Returns True if first character in a string is in Uppercase.\n",
    "    <string>.partition(<sub_string>) -> Splits string at first occurance of sub string and returns a tuple of 3 elements.\n",
    "    <string>.rpartition(<sub_string>) -> Splits string at last occurance of sub string and returns a tuple of 3 elements.\n",
    "    <string>.isidentifier() -> Returns True if give string is a valid identifier name.\n",
    "    len(<string>) -> Returns the length of the given string.\n",
    "    <string>.index(<sub_string>) -> Returns the lowest index of substring if substring is found in the string.\n",
    "    <string>.rindex(<sub_string>) -> Returns the highest index of substring if substring is found in the string.\n",
    "    max(<string>) -> Returns the highest Alphabetical Character in the string as per ASCII.\n",
    "    min(<string>) -> Returns the lowest Alphabetical Character in the string as per ASCII.\n",
    "    <string>.splitlines() -> Returns a list of lines in the string.\n",
    "    <string>.capitalize() -> Returns the string with first character capitalized.\n",
    "    <string>.upper() -> Returns the string with all characters in uppercase.\n",
    "    <string>.lower() -> Returns the string with all characters in lowercase\n",
    "    <string>.casefold() -> Returns the string in lowercase which can be used for caseless comparisions.\n",
    "    <string>.expandtabs(no_of_spaces) -> Replaces tabs in a string with specified no of spaces default is 8\n",
    "    <string>.find(<sub_string>) -> Returns lowest index of substring if substring is found in the string else returns -1.\n",
    "    <string>.rfind(<sub_string>) -> Returns highest index of substring if substring is found in the string else returns -1.\n",
    "    <string>.count(<char>) -> Returns the no of occurances of the char in the given string.\n",
    "    <string>.split(<sep>) -> Returns list of words seperated by given sep else seperated by whitespace.\n",
    "    <string>.rsplit(<sep>) -> Returns list of words seperated by given sep else seperated by whitespace scanning from end.\n",
    "    <string>.lstrip() -> Returns a copy of where leading whitespaces are removed.\n",
    "    <string>.rstrip() -> Returns a copy of where trailed whitespaces are removed.\n",
    "    <string>.strip() -> Returns a copy of where both leading and trailing whitespaces are removed.\n",
    "    <string>.swapcase() -> Swaps lowercase characters with uppercase and vice versa.\n",
    "    <sep>.join(<list>) -> Concatenates a list or tuple of words with intervening occuernces of sep.\n",
    "    <string>.translate(<mapping_table>) -> translates the characters using table.\n",
    "    <string>.maketrans(<dict>) -> Creating a mapping translation tbale usable for <string>.translate(<mapping_table>)\n",
    "    <string>.replace(<char_1>,<char_2>) -> Replace all occurances of char_1 with char_2 in string.\n",
    "    <string>.encode() -> Encodes string into any encoding supported by python. Default encoding is UTF-8.\n",
    "    <string>.ljust(<no_of_spaces>) -> Left-justify in a field of given width.\n",
    "    <string>.rjust(<no_of_spaces>) -> Right-justify in a field of given width.\n",
    "    <string>.center(<no_of_spaces>) -> Center-justify in a field of given width.\n",
    "    <stirng>.zfill(<length>) -> Zfill adds zeros to the begining of string until the specified length is reached."
   ]
  },
  {
   "cell_type": "code",
   "execution_count": null,
   "id": "27a22e5e",
   "metadata": {},
   "outputs": [],
   "source": []
  }
 ],
 "metadata": {
  "kernelspec": {
   "display_name": "Python 3 (ipykernel)",
   "language": "python",
   "name": "python3"
  },
  "language_info": {
   "codemirror_mode": {
    "name": "ipython",
    "version": 3
   },
   "file_extension": ".py",
   "mimetype": "text/x-python",
   "name": "python",
   "nbconvert_exporter": "python",
   "pygments_lexer": "ipython3",
   "version": "3.9.7"
  }
 },
 "nbformat": 4,
 "nbformat_minor": 5
}
